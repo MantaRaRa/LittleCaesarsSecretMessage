{
 "cells": [
  {
   "cell_type": "code",
   "execution_count": 3,
   "metadata": {},
   "outputs": [
    {
     "name": "stdout",
     "output_type": "stream",
     "text": [
      "Encrypted: Ibsst Ibsst\n",
      "Decrypted: Pizza Pizza\n"
     ]
    }
   ],
   "source": [
    "# Little Caesar's Secret Message\n",
    "\n",
    "# Encrypting Text\n",
    "\n",
    "def caesar_encrypt(plaintext, shift):\n",
    "    ciphertext = \"\"\n",
    "    for char in plaintext:\n",
    "\n",
    "        # The python string isalpha() method is used to check whether the string consists of alphabets.\n",
    "\n",
    "        if char.isalpha():\n",
    "\n",
    "            # Python ord() function takes string argument of a single Unicode character and return its integer Unicode code point value\n",
    "            # Python chr() function takes integer argument and return the string representing a character at that code point\n",
    "            # Python ord() and chr() are built-in functions. They are used to convert a character to an int and vice versa\n",
    "\n",
    "            base = ord('A') if char.isupper() else ord('a')\n",
    "            shifted_char = chr((ord(char) - base + shift) % 26 + base)\n",
    "            ciphertext += shifted_char\n",
    "\n",
    "            #The \"% 26\" ensures that the shift wraps around from 'Z' (or 'z') back to 'A' (or 'a') if the shift would otherwise result in a character outside the range of the alphabet.\n",
    "\n",
    "        else:\n",
    "            ciphertext += char\n",
    "\n",
    "    return ciphertext\n",
    "\n",
    "\n",
    "# Decrypts the text\n",
    "\n",
    "def caesar_decrypt(ciphertext, shift):\n",
    "    return caesar_encrypt(ciphertext, -shift)\n",
    "\n",
    "# Ask the user for a number to shift in the positive or negative direction\n",
    "\n",
    "while True:\n",
    "    cipher_shift = int(input(\"Enter the Number of Shift:\"))\n",
    "    if cipher_shift == 0:\n",
    "        print(\"Please Input a valid shift Number\")\n",
    "        continue\n",
    "    else:\n",
    "        break\n",
    "\n",
    "# Ask User for a Phrase\n",
    "\n",
    "plaintext = input(\"Enter Phrase:\")    \n",
    "\n",
    "# Encrypts the Text\n",
    "\n",
    "encrypted_text = caesar_encrypt(plaintext, cipher_shift)\n",
    "print(\"Encrypted:\", encrypted_text)\n",
    "\n",
    "# Decrypts the Text\n",
    "\n",
    "decrypted_text = caesar_decrypt(encrypted_text, cipher_shift)\n",
    "print(\"Decrypted:\", decrypted_text)\n",
    "\n"
   ]
  },
  {
   "cell_type": "markdown",
   "metadata": {},
   "source": [
    "A B C D E F G H I J K L M N O P Q R S T U V W X Y Z"
   ]
  }
 ],
 "metadata": {
  "kernelspec": {
   "display_name": "Python 3",
   "language": "python",
   "name": "python3"
  },
  "language_info": {
   "codemirror_mode": {
    "name": "ipython",
    "version": 3
   },
   "file_extension": ".py",
   "mimetype": "text/x-python",
   "name": "python",
   "nbconvert_exporter": "python",
   "pygments_lexer": "ipython3",
   "version": "3.11.4"
  },
  "orig_nbformat": 4
 },
 "nbformat": 4,
 "nbformat_minor": 2
}
